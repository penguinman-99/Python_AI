{
  "nbformat": 4,
  "nbformat_minor": 0,
  "metadata": {
    "colab": {
      "name": "MypythonAI.ipynb",
      "provenance": [],
      "collapsed_sections": [],
      "authorship_tag": "ABX9TyOf059FIjTAgXuyNyx8JvhB",
      "include_colab_link": true
    },
    "kernelspec": {
      "name": "python3",
      "display_name": "Python 3"
    },
    "accelerator": "GPU"
  },
  "cells": [
    {
      "cell_type": "markdown",
      "metadata": {
        "id": "view-in-github",
        "colab_type": "text"
      },
      "source": [
        "<a href=\"https://colab.research.google.com/github/penguinman-99/Python_AI/blob/main/MypythonAI.ipynb\" target=\"_parent\"><img src=\"https://colab.research.google.com/assets/colab-badge.svg\" alt=\"Open In Colab\"/></a>"
      ]
    },
    {
      "cell_type": "code",
      "metadata": {
        "colab": {
          "base_uri": "https://localhost:8080/"
        },
        "id": "DeXem-6vjcg6",
        "outputId": "ddcadf3d-5e6f-4332-e3dd-ec84533d87bc"
      },
      "source": [
        "!nvidia-smi\r\n"
      ],
      "execution_count": 1,
      "outputs": [
        {
          "output_type": "stream",
          "text": [
            "Fri Feb  5 09:40:43 2021       \n",
            "+-----------------------------------------------------------------------------+\n",
            "| NVIDIA-SMI 460.39       Driver Version: 418.67       CUDA Version: 10.1     |\n",
            "|-------------------------------+----------------------+----------------------+\n",
            "| GPU  Name        Persistence-M| Bus-Id        Disp.A | Volatile Uncorr. ECC |\n",
            "| Fan  Temp  Perf  Pwr:Usage/Cap|         Memory-Usage | GPU-Util  Compute M. |\n",
            "|                               |                      |               MIG M. |\n",
            "|===============================+======================+======================|\n",
            "|   0  Tesla T4            Off  | 00000000:00:04.0 Off |                    0 |\n",
            "| N/A   56C    P8    11W /  70W |      0MiB / 15079MiB |      0%      Default |\n",
            "|                               |                      |                 ERR! |\n",
            "+-------------------------------+----------------------+----------------------+\n",
            "                                                                               \n",
            "+-----------------------------------------------------------------------------+\n",
            "| Processes:                                                                  |\n",
            "|  GPU   GI   CI        PID   Type   Process name                  GPU Memory |\n",
            "|        ID   ID                                                   Usage      |\n",
            "|=============================================================================|\n",
            "|  No running processes found                                                 |\n",
            "+-----------------------------------------------------------------------------+\n"
          ],
          "name": "stdout"
        }
      ]
    },
    {
      "cell_type": "code",
      "metadata": {
        "colab": {
          "base_uri": "https://localhost:8080/"
        },
        "id": "MHY8ZBTwj_eQ",
        "outputId": "9456f563-b7b7-49e1-f0a8-f11e058679ab"
      },
      "source": [
        "import tensorflow as tf\r\n",
        "import numpy as np\r\n",
        "# string=tf.Variable(\"this is a string\", tf.string)\r\n",
        "# number=tf.Variable(324,tf.int16)\r\n",
        "# floating=tf.Variable(3.567,tf.float64)\r\n",
        "#a=tf.zeros([2,10]) #2행 10열, 0으로 초기화\r\n",
        "#b=tf.eye(3) #대각선 값만 1로 고정\r\n",
        "print(b)\r\n",
        "print(a)\r\n"
      ],
      "execution_count": 26,
      "outputs": [
        {
          "output_type": "stream",
          "text": [
            "tf.Tensor(\n",
            "[[1. 0. 0.]\n",
            " [0. 1. 0.]\n",
            " [0. 0. 1.]], shape=(3, 3), dtype=float32)\n",
            "tf.Tensor([ 1  2  3  4  5  6  7  8  9 10], shape=(10,), dtype=int32)\n"
          ],
          "name": "stdout"
        }
      ]
    },
    {
      "cell_type": "markdown",
      "metadata": {
        "id": "TEw4CE-LriHB"
      },
      "source": [
        "텐서플로우는 사칙연산을 지원하지만 배열크기와 shape이 같아야 연산가능 "
      ]
    },
    {
      "cell_type": "code",
      "metadata": {
        "colab": {
          "base_uri": "https://localhost:8080/"
        },
        "id": "WaqtRVl6pPZn",
        "outputId": "11ecde2c-818f-4ea6-d0eb-9bbaf2a1706f"
      },
      "source": [
        "#reduce 함수: 행렬합, 평균, 최대값,최소값 구하기 \r\n",
        "a=tf.constant([1,2,3,4,5,6,7,8,9,10])\r\n",
        "print(tf.reduce_sum(a))\r\n",
        "print(tf.reduce_mean(a))\r\n",
        "print(tf.reduce_max(a))\r\n",
        "print(tf.reduce_min(a))\r\n",
        "c=a+5\r\n",
        "print(c)"
      ],
      "execution_count": 18,
      "outputs": [
        {
          "output_type": "stream",
          "text": [
            "tf.Tensor(55, shape=(), dtype=int32)\n",
            "tf.Tensor(5, shape=(), dtype=int32)\n",
            "tf.Tensor(10, shape=(), dtype=int32)\n",
            "tf.Tensor(1, shape=(), dtype=int32)\n",
            "tf.Tensor([ 6  7  8  9 10 11 12 13 14 15], shape=(10,), dtype=int32)\n"
          ],
          "name": "stdout"
        }
      ]
    },
    {
      "cell_type": "code",
      "metadata": {
        "colab": {
          "base_uri": "https://localhost:8080/"
        },
        "id": "MsA3zK-QwNt9",
        "outputId": "f7ac69fd-c2ce-4eb5-e9ea-c1b8f8f0bb12"
      },
      "source": [
        "#행렬의 곱 계산\r\n",
        "\r\n",
        "first=tf.constant([[1,2,3]])\r\n",
        "second=tf.constant([[10],[20],[30]])\r\n",
        "c=tf.matmul(first,second)\r\n",
        "print(c)\r\n",
        "d=tf.add(first,second)\r\n",
        "print(d)\r\n",
        "#덧셈은 행,열이 모두 같아야한다.\r\n"
      ],
      "execution_count": 30,
      "outputs": [
        {
          "output_type": "stream",
          "text": [
            "tf.Tensor([[140]], shape=(1, 1), dtype=int32)\n",
            "tf.Tensor(\n",
            "[[11 12 13]\n",
            " [21 22 23]\n",
            " [31 32 33]], shape=(3, 3), dtype=int32)\n"
          ],
          "name": "stdout"
        }
      ]
    }
  ]
}