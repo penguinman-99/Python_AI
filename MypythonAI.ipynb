{
  "nbformat": 4,
  "nbformat_minor": 0,
  "metadata": {
    "accelerator": "GPU",
    "colab": {
      "name": "MypythonAI.ipynb",
      "provenance": [],
      "collapsed_sections": [],
      "authorship_tag": "ABX9TyMy5fyNhm+rChfzfqzZGbLa",
      "include_colab_link": true
    },
    "kernelspec": {
      "display_name": "Python 3",
      "name": "python3"
    }
  },
  "cells": [
    {
      "cell_type": "markdown",
      "metadata": {
        "id": "view-in-github",
        "colab_type": "text"
      },
      "source": [
        "<a href=\"https://colab.research.google.com/github/penguinman-99/Python_AI/blob/main/MypythonAI.ipynb\" target=\"_parent\"><img src=\"https://colab.research.google.com/assets/colab-badge.svg\" alt=\"Open In Colab\"/></a>"
      ]
    },
    {
      "cell_type": "code",
      "metadata": {
        "colab": {
          "base_uri": "https://localhost:8080/"
        },
        "id": "DeXem-6vjcg6",
        "outputId": "ddcadf3d-5e6f-4332-e3dd-ec84533d87bc"
      },
      "source": [
        "!nvidia-smi\r\n"
      ],
      "execution_count": null,
      "outputs": [
        {
          "output_type": "stream",
          "text": [
            "Fri Feb  5 09:40:43 2021       \n",
            "+-----------------------------------------------------------------------------+\n",
            "| NVIDIA-SMI 460.39       Driver Version: 418.67       CUDA Version: 10.1     |\n",
            "|-------------------------------+----------------------+----------------------+\n",
            "| GPU  Name        Persistence-M| Bus-Id        Disp.A | Volatile Uncorr. ECC |\n",
            "| Fan  Temp  Perf  Pwr:Usage/Cap|         Memory-Usage | GPU-Util  Compute M. |\n",
            "|                               |                      |               MIG M. |\n",
            "|===============================+======================+======================|\n",
            "|   0  Tesla T4            Off  | 00000000:00:04.0 Off |                    0 |\n",
            "| N/A   56C    P8    11W /  70W |      0MiB / 15079MiB |      0%      Default |\n",
            "|                               |                      |                 ERR! |\n",
            "+-------------------------------+----------------------+----------------------+\n",
            "                                                                               \n",
            "+-----------------------------------------------------------------------------+\n",
            "| Processes:                                                                  |\n",
            "|  GPU   GI   CI        PID   Type   Process name                  GPU Memory |\n",
            "|        ID   ID                                                   Usage      |\n",
            "|=============================================================================|\n",
            "|  No running processes found                                                 |\n",
            "+-----------------------------------------------------------------------------+\n"
          ],
          "name": "stdout"
        }
      ]
    },
    {
      "cell_type": "code",
      "metadata": {
        "id": "MHY8ZBTwj_eQ"
      },
      "source": [
        "import tensorflow as tf\r\n",
        "import numpy as np\r\n",
        "# string=tf.Variable(\"this is a string\", tf.string)\r\n",
        "# number=tf.Variable(324,tf.int16)\r\n",
        "# floating=tf.Variable(3.567,tf.float64)\r\n",
        "#a=tf.zeros([2,10]) #2행 10열, 0으로 초기화\r\n",
        "#b=tf.eye(3) #대각선 값만 1로 고정\r\n",
        "\r\n"
      ],
      "execution_count": 3,
      "outputs": []
    },
    {
      "cell_type": "markdown",
      "metadata": {
        "id": "TEw4CE-LriHB"
      },
      "source": [
        "텐서플로우는 사칙연산을 지원하지만 배열크기와 shape이 같아야 연산가능 "
      ]
    },
    {
      "cell_type": "code",
      "metadata": {
        "colab": {
          "base_uri": "https://localhost:8080/"
        },
        "id": "WaqtRVl6pPZn",
        "outputId": "11ecde2c-818f-4ea6-d0eb-9bbaf2a1706f"
      },
      "source": [
        "#reduce 함수: 행렬합, 평균, 최대값,최소값 구하기 \r\n",
        "a=tf.constant([1,2,3,4,5,6,7,8,9,10])\r\n",
        "print(tf.reduce_sum(a))\r\n",
        "print(tf.reduce_mean(a))\r\n",
        "print(tf.reduce_max(a))\r\n",
        "print(tf.reduce_min(a))\r\n",
        "c=a+5\r\n",
        "print(c)"
      ],
      "execution_count": null,
      "outputs": [
        {
          "output_type": "stream",
          "text": [
            "tf.Tensor(55, shape=(), dtype=int32)\n",
            "tf.Tensor(5, shape=(), dtype=int32)\n",
            "tf.Tensor(10, shape=(), dtype=int32)\n",
            "tf.Tensor(1, shape=(), dtype=int32)\n",
            "tf.Tensor([ 6  7  8  9 10 11 12 13 14 15], shape=(10,), dtype=int32)\n"
          ],
          "name": "stdout"
        }
      ]
    },
    {
      "cell_type": "code",
      "metadata": {
        "colab": {
          "base_uri": "https://localhost:8080/"
        },
        "id": "MsA3zK-QwNt9",
        "outputId": "eb6d5b03-91ea-4511-de7d-6eda730b2e3a"
      },
      "source": [
        "#행렬의 곱 계산\r\n",
        "\r\n",
        "first=tf.constant([[1,2,3],[4,5,6]])\r\n",
        "second=tf.constant([[10,11],[20,21],[30,31]])\r\n",
        "c=tf.matmul(first,second)\r\n",
        "print(c)\r\n",
        "#d=tf.add(first,second)\r\n",
        "#print(d)\r\n",
        "#덧셈은 행,열이 모두 같아야한다.\r\n"
      ],
      "execution_count": 6,
      "outputs": [
        {
          "output_type": "stream",
          "text": [
            "tf.Tensor(\n",
            "[[140 146]\n",
            " [320 335]], shape=(2, 2), dtype=int32)\n"
          ],
          "name": "stdout"
        }
      ]
    },
    {
      "cell_type": "code",
      "metadata": {
        "id": "cqGwo5zS-o21"
      },
      "source": [
        "#Reshape 함수: Tensor의 형태를 바꾼다.\r\n",
        "\r\n",
        "e=tf.reshape(second,[2,3])\r\n",
        "d=tf.add(e,first)\r\n",
        "print(d)\r\n",
        "\r\n",
        "#cast: 데이터 타입을 바꾼다.\r\n",
        "A=tf.constant([[1,2,3],[4,5,6]])\r\n",
        "B=tf.constant([[10.1,11],[20,30],[30,31]])\r\n",
        "print(A)\r\n",
        "print(B)\r\n",
        "\r\n",
        "C=tf.cast(A,tf.float32)\r\n",
        "D=tf.reshape(C,[3,2])\r\n",
        "print(tf.add(D,B))\r\n"
      ],
      "execution_count": null,
      "outputs": []
    },
    {
      "cell_type": "code",
      "metadata": {
        "colab": {
          "base_uri": "https://localhost:8080/"
        },
        "id": "5VRikMDmAsiI",
        "outputId": "97210179-8ee9-4754-e305-4d3e49c3cef8"
      },
      "source": [
        "ex1=tf.constant([[1,2,3],[4,5,6]])\r\n",
        "ex2=tf.constant([[10,11],[20,21],[30,31]])\r\n",
        "\r\n",
        "print(ex2)\r\n",
        "#Slice: 일부만 복사\r\n",
        "result=tf.slice(ex2,[0,0],[1,2])\r\n",
        "print(result)"
      ],
      "execution_count": 31,
      "outputs": [
        {
          "output_type": "stream",
          "text": [
            "tf.Tensor(\n",
            "[[10 11]\n",
            " [20 21]\n",
            " [30 31]], shape=(3, 2), dtype=int32)\n",
            "tf.Tensor([[10 11]], shape=(1, 2), dtype=int32)\n"
          ],
          "name": "stdout"
        }
      ]
    },
    {
      "cell_type": "code",
      "metadata": {
        "colab": {
          "base_uri": "https://localhost:8080/"
        },
        "id": "xUWMRuYvCqQJ",
        "outputId": "5b6e080f-5d27-442d-b95b-1a003d7295ec"
      },
      "source": [
        "#텐서를 합치기 concat, stack\r\n",
        "\r\n",
        "A=tf.constant([[1,1],[2,2],[3,3]])\r\n",
        "B=tf.constant([[10,10],[20,20],[30,30]])\r\n",
        "print(A)\r\n",
        "print(B)\r\n",
        "#0:행기준\r\n",
        "D=tf.concat([A,B],0)\r\n",
        "D1=tf.concat([A,B],1)\r\n",
        "#1: 열기준\r\n",
        "print(D)\r\n",
        "print(D1)\r\n",
        "\r\n",
        "#stack: 차원을 하나 더 늘리고, 정해진 행 열기준에 따라 합쳐줌\r\n",
        "\r\n",
        "E=tf.stack([A,B],0)\r\n",
        "E1=tf.stack([A,B],1)\r\n",
        "print(E)\r\n",
        "print(E1)"
      ],
      "execution_count": 37,
      "outputs": [
        {
          "output_type": "stream",
          "text": [
            "tf.Tensor(\n",
            "[[1 1]\n",
            " [2 2]\n",
            " [3 3]], shape=(3, 2), dtype=int32)\n",
            "tf.Tensor(\n",
            "[[10 10]\n",
            " [20 20]\n",
            " [30 30]], shape=(3, 2), dtype=int32)\n",
            "tf.Tensor(\n",
            "[[ 1  1]\n",
            " [ 2  2]\n",
            " [ 3  3]\n",
            " [10 10]\n",
            " [20 20]\n",
            " [30 30]], shape=(6, 2), dtype=int32)\n",
            "tf.Tensor(\n",
            "[[ 1  1 10 10]\n",
            " [ 2  2 20 20]\n",
            " [ 3  3 30 30]], shape=(3, 4), dtype=int32)\n",
            "tf.Tensor(\n",
            "[[[ 1  1]\n",
            "  [ 2  2]\n",
            "  [ 3  3]]\n",
            "\n",
            " [[10 10]\n",
            "  [20 20]\n",
            "  [30 30]]], shape=(2, 3, 2), dtype=int32)\n",
            "tf.Tensor(\n",
            "[[[ 1  1]\n",
            "  [10 10]]\n",
            "\n",
            " [[ 2  2]\n",
            "  [20 20]]\n",
            "\n",
            " [[ 3  3]\n",
            "  [30 30]]], shape=(3, 2, 2), dtype=int32)\n"
          ],
          "name": "stdout"
        }
      ]
    }
  ]
}