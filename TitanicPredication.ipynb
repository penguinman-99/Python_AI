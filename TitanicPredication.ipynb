{
  "nbformat": 4,
  "nbformat_minor": 0,
  "metadata": {
    "colab": {
      "name": "TitanicPredication.ipynb",
      "provenance": [],
      "collapsed_sections": [],
      "authorship_tag": "ABX9TyMeiE5EKdNQf/p4ulzLLVvZ",
      "include_colab_link": true
    },
    "kernelspec": {
      "name": "python3",
      "display_name": "Python 3"
    }
  },
  "cells": [
    {
      "cell_type": "markdown",
      "metadata": {
        "id": "view-in-github",
        "colab_type": "text"
      },
      "source": [
        "<a href=\"https://colab.research.google.com/github/penguinman-99/Python_AI/blob/main/TitanicPredication.ipynb\" target=\"_parent\"><img src=\"https://colab.research.google.com/assets/colab-badge.svg\" alt=\"Open In Colab\"/></a>"
      ]
    },
    {
      "cell_type": "code",
      "metadata": {
        "id": "o5UxcNI6E_DK"
      },
      "source": [
        "#matplotlib.pyplot: 차트를 그려준다.\r\n",
        "\r\n",
        "import matplotlib.pyplot as plt\r\n",
        "import numpy as np\r\n",
        "\r\n",
        "x=[1,2,2.5,3,4]\r\n",
        "y=[1,4,7,9,15]\r\n",
        "plt.plot(x,y,'ro')\r\n",
        "plt.axis([0,6,0,20])"
      ],
      "execution_count": null,
      "outputs": []
    },
    {
      "cell_type": "code",
      "metadata": {
        "id": "eOyv3fgwHlCW"
      },
      "source": [
        "pip install -q sklearn"
      ],
      "execution_count": null,
      "outputs": []
    },
    {
      "cell_type": "code",
      "metadata": {
        "id": "3FtZjrmAHn5i"
      },
      "source": [
        "import os\r\n",
        "import sys\r\n",
        "#numpy: 수치처리  six.moves:\r\n",
        "#pandas:데이터 처리 Ipython.display:\r\n",
        "import numpy as np\r\n",
        "import pandas as pd\r\n",
        "import matplotlib.pyplot as plt\r\n",
        "from IPython.display import clear_output\r\n",
        "from six.moves import urllib\r\n",
        "import tensorflow.compat.v2.feature_column as fc\r\n",
        "\r\n",
        "import tensorflow as tf\r\n"
      ],
      "execution_count": 6,
      "outputs": []
    },
    {
      "cell_type": "code",
      "metadata": {
        "id": "-vPIXRvPH4VT"
      },
      "source": [
        "# 데이터셋 불러오기.\r\n",
        "dftrain = pd.read_csv('https://storage.googleapis.com/tf-datasets/titanic/train.csv')\r\n",
        "dfeval = pd.read_csv('https://storage.googleapis.com/tf-datasets/titanic/eval.csv')\r\n",
        "#불러온 데이터 항목에서 생존 항목을 삭제\r\n",
        "y_train = dftrain.pop('survived')\r\n",
        "y_eval = dfeval.pop('survived')\r\n"
      ],
      "execution_count": 10,
      "outputs": []
    },
    {
      "cell_type": "code",
      "metadata": {
        "id": "8jwlm37OIVGt"
      },
      "source": [
        "dftrain.head()"
      ],
      "execution_count": null,
      "outputs": []
    },
    {
      "cell_type": "code",
      "metadata": {
        "id": "2b1nT6e6Indn"
      },
      "source": [
        "#행, 열을 보여준다.\r\n",
        "dftrain.shape\r\n",
        "\r\n",
        "#dftrain.age.hist(bins=20)\r\n",
        "#성별에 따른 생존률을 보여준다\r\n",
        "#dftrain.sex.value_counts().plot(kind='barh')"
      ],
      "execution_count": null,
      "outputs": []
    },
    {
      "cell_type": "code",
      "metadata": {
        "id": "iwiC8g8EJG97"
      },
      "source": [
        "#카테고리를 숫자화한다\r\n",
        "CATEGORICAL_COLUMNS = ['sex', 'n_siblings_spouses', 'parch', 'class', 'deck',\r\n",
        "                       'embark_town', 'alone']\r\n",
        "NUMERIC_COLUMNS = ['age', 'fare']\r\n",
        "\r\n",
        "feature_columns = []\r\n",
        "for feature_name in CATEGORICAL_COLUMNS:\r\n",
        "  vocabulary = dftrain[feature_name].unique()\r\n",
        "  feature_columns.append(tf.feature_column.categorical_column_with_vocabulary_list(feature_name, vocabulary))\r\n",
        "\r\n",
        "for feature_name in NUMERIC_COLUMNS:\r\n",
        "  feature_columns.append(tf.feature_column.numeric_column(feature_name, dtype=tf.float32))\r\n",
        "\r\n",
        "\r\n",
        "def make_input_fn(data_df, label_df, num_epochs=10, shuffle=True, batch_size=32):\r\n",
        "  def input_function(): #내부함수.\r\n",
        "  #dataset을 이용 label, data가 있는 객체 생성\r\n",
        "    ds = tf.data.Dataset.from_tensor_slices((dict(data_df), label_df))\r\n",
        "    if shuffle:\r\n",
        "      ds = ds.shuffle(1000)#셔플을 이용한 난수 생성\r\n",
        "    ds = ds.batch(batch_size).repeat(num_epochs)\r\n",
        "    #한번에 학습할 작은 데이터 사이즈를 32개로 하고, 에포크 수에 대해 프로세스 반복\r\n",
        "    return ds\r\n",
        "  return input_function\r\n",
        "\r\n",
        "train_input_fn = make_input_fn(dftrain, y_train)\r\n",
        "eval_input_fn = make_input_fn(dfeval, y_eval, num_epochs=1, shuffle=False)\r\n",
        "#앞에 만든 feature column을 전달해 LinearClassifier 모델을 만듬.\r\n",
        "\r\n",
        "linear_est=tf.estimator.LinearClassifier(feature_columns=feature_columns)\r\n",
        "\r\n",
        "# 모델 트레이닝 하기\r\n",
        "linear_est.train(train_input_fn)  # 트레이닝\r\n",
        "result = linear_est.evaluate(eval_input_fn)  # 테스팅 데이터를 테스트하여 모델 지표 / 통계 가져 오기\r\n",
        "\r\n",
        "clear_output()  # 콘솔 출력 지우기\r\n",
        "print(result['accuracy'])  # 모델에 대한 정확도\r\n",
        "\r\n",
        "predicts=list(linear_est.predict(eval_input_fn))\r\n"
      ],
      "execution_count": null,
      "outputs": []
    },
    {
      "cell_type": "code",
      "metadata": {
        "colab": {
          "base_uri": "https://localhost:8080/"
        },
        "id": "zCSLtGZ-S8kL",
        "outputId": "8c9d4934-d32f-4451-cf84-e42ecdee494c"
      },
      "source": [
        "\r\n",
        "#살아날 확률.\r\n",
        "print(dfeval.loc[0])\r\n",
        "print(predicts[0]['probabilities'][1])\r\n",
        "print(y_eval.loc[3])\r\n",
        "print(dfeval.loc[3])\r\n",
        "print(predicts[3]['probabilities'][1])"
      ],
      "execution_count": 36,
      "outputs": [
        {
          "output_type": "stream",
          "text": [
            "sex                          male\n",
            "age                            35\n",
            "n_siblings_spouses              0\n",
            "parch                           0\n",
            "fare                         8.05\n",
            "class                       Third\n",
            "deck                      unknown\n",
            "embark_town           Southampton\n",
            "alone                           y\n",
            "Name: 0, dtype: object\n",
            "0.07408214\n",
            "1\n",
            "sex                        female\n",
            "age                            55\n",
            "n_siblings_spouses              0\n",
            "parch                           0\n",
            "fare                           16\n",
            "class                      Second\n",
            "deck                      unknown\n",
            "embark_town           Southampton\n",
            "alone                           y\n",
            "Name: 3, dtype: object\n",
            "0.60438937\n"
          ],
          "name": "stdout"
        }
      ]
    }
  ]
}